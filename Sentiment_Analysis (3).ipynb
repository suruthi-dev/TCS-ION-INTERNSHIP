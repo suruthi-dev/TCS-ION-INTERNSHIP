{
  "cells": [
    {
      "cell_type": "markdown",
      "source": [
        "# IMPORTING DEPENDENCIES"
      ],
      "metadata": {
        "id": "Tv3B8m9R8J5n"
      }
    },
    {
      "cell_type": "code",
      "execution_count": 1,
      "metadata": {
        "id": "ixXlW-L_gWFD"
      },
      "outputs": [],
      "source": [
        "import tensorflow\n",
        "import keras\n",
        "\n",
        "from tensorflow.keras.preprocessing.text import Tokenizer\n",
        "from tensorflow.keras.preprocessing.sequence import pad_sequences\n",
        "from tensorflow.keras.models import Sequential\n",
        "from tensorflow.keras.layers import Dense,Flatten,Embedding,Activation,Dropout,SpatialDropout1D,Bidirectional,LSTM\n",
        "from tensorflow.keras.layers import Conv1D,MaxPooling1D,GlobalAveragePooling1D,GlobalMaxPooling1D\n",
        "\n",
        "import pandas as pd\n",
        "import numpy as np\n",
        "import gensim\n",
        "from sklearn.model_selection import train_test_split\n",
        "import nltk\n",
        "from nltk.corpus import stopwords\n",
        "import re\n",
        "from nltk.stem import WordNetLemmatizer"
      ]
    },
    {
      "cell_type": "code",
      "execution_count": 2,
      "metadata": {
        "colab": {
          "base_uri": "https://localhost:8080/"
        },
        "id": "LJN91KOdgY4A",
        "outputId": "afc2c72b-51b4-4999-dd40-3854528d6b45"
      },
      "outputs": [
        {
          "output_type": "stream",
          "name": "stdout",
          "text": [
            "Mounted at /content/drive\n"
          ]
        }
      ],
      "source": [
        "from google.colab import drive\n",
        "drive.mount('/content/drive')"
      ]
    },
    {
      "cell_type": "markdown",
      "source": [
        "# ARCHITECTURE\n",
        "\n",
        "1. Importing Dataset and encoding the label \n",
        "2. Preprocessing the text by removing stop words,punctuations,html tags,hash tags,numbers,emoticons,case folding and lemmatization\n",
        "3. Tokenizing using Keras Tokenizer \n",
        "4. Converting text data to sequences of integers and padding\n",
        "5. Building Keras LSTM Model\n",
        "6. Plotting the Accuracies and Losses"
      ],
      "metadata": {
        "id": "V_Sap-i88ULO"
      }
    },
    {
      "cell_type": "markdown",
      "source": [
        "# Importing Dataset and encoding the label"
      ],
      "metadata": {
        "id": "WA-_F19xBISh"
      }
    },
    {
      "cell_type": "markdown",
      "source": [
        "##Dataset :\n",
        "https://www.kaggle.com/datasets/lakshmi25npathi/imdb-dataset-of-50k-movie-reviews"
      ],
      "metadata": {
        "id": "6vzFJTIbgrWF"
      }
    },
    {
      "cell_type": "code",
      "execution_count": 3,
      "metadata": {
        "id": "NkOq-TjhzR_i",
        "colab": {
          "base_uri": "https://localhost:8080/",
          "height": 423
        },
        "outputId": "b0d21aa8-dd36-4c25-848e-7fa48efc0e1a"
      },
      "outputs": [
        {
          "output_type": "execute_result",
          "data": {
            "text/plain": [
              "                                                  review sentiment\n",
              "0      One of the other reviewers has mentioned that ...  positive\n",
              "1      A wonderful little production. <br /><br />The...  positive\n",
              "2      I thought this was a wonderful way to spend ti...  positive\n",
              "3      Basically there's a family where a little boy ...  negative\n",
              "4      Petter Mattei's \"Love in the Time of Money\" is...  positive\n",
              "...                                                  ...       ...\n",
              "49995  I thought this movie did a down right good job...  positive\n",
              "49996  Bad plot, bad dialogue, bad acting, idiotic di...  negative\n",
              "49997  I am a Catholic taught in parochial elementary...  negative\n",
              "49998  I'm going to have to disagree with the previou...  negative\n",
              "49999  No one expects the Star Trek movies to be high...  negative\n",
              "\n",
              "[50000 rows x 2 columns]"
            ],
            "text/html": [
              "\n",
              "  <div id=\"df-ae7baaa4-e1e8-470f-99d6-2e739640daf5\">\n",
              "    <div class=\"colab-df-container\">\n",
              "      <div>\n",
              "<style scoped>\n",
              "    .dataframe tbody tr th:only-of-type {\n",
              "        vertical-align: middle;\n",
              "    }\n",
              "\n",
              "    .dataframe tbody tr th {\n",
              "        vertical-align: top;\n",
              "    }\n",
              "\n",
              "    .dataframe thead th {\n",
              "        text-align: right;\n",
              "    }\n",
              "</style>\n",
              "<table border=\"1\" class=\"dataframe\">\n",
              "  <thead>\n",
              "    <tr style=\"text-align: right;\">\n",
              "      <th></th>\n",
              "      <th>review</th>\n",
              "      <th>sentiment</th>\n",
              "    </tr>\n",
              "  </thead>\n",
              "  <tbody>\n",
              "    <tr>\n",
              "      <th>0</th>\n",
              "      <td>One of the other reviewers has mentioned that ...</td>\n",
              "      <td>positive</td>\n",
              "    </tr>\n",
              "    <tr>\n",
              "      <th>1</th>\n",
              "      <td>A wonderful little production. &lt;br /&gt;&lt;br /&gt;The...</td>\n",
              "      <td>positive</td>\n",
              "    </tr>\n",
              "    <tr>\n",
              "      <th>2</th>\n",
              "      <td>I thought this was a wonderful way to spend ti...</td>\n",
              "      <td>positive</td>\n",
              "    </tr>\n",
              "    <tr>\n",
              "      <th>3</th>\n",
              "      <td>Basically there's a family where a little boy ...</td>\n",
              "      <td>negative</td>\n",
              "    </tr>\n",
              "    <tr>\n",
              "      <th>4</th>\n",
              "      <td>Petter Mattei's \"Love in the Time of Money\" is...</td>\n",
              "      <td>positive</td>\n",
              "    </tr>\n",
              "    <tr>\n",
              "      <th>...</th>\n",
              "      <td>...</td>\n",
              "      <td>...</td>\n",
              "    </tr>\n",
              "    <tr>\n",
              "      <th>49995</th>\n",
              "      <td>I thought this movie did a down right good job...</td>\n",
              "      <td>positive</td>\n",
              "    </tr>\n",
              "    <tr>\n",
              "      <th>49996</th>\n",
              "      <td>Bad plot, bad dialogue, bad acting, idiotic di...</td>\n",
              "      <td>negative</td>\n",
              "    </tr>\n",
              "    <tr>\n",
              "      <th>49997</th>\n",
              "      <td>I am a Catholic taught in parochial elementary...</td>\n",
              "      <td>negative</td>\n",
              "    </tr>\n",
              "    <tr>\n",
              "      <th>49998</th>\n",
              "      <td>I'm going to have to disagree with the previou...</td>\n",
              "      <td>negative</td>\n",
              "    </tr>\n",
              "    <tr>\n",
              "      <th>49999</th>\n",
              "      <td>No one expects the Star Trek movies to be high...</td>\n",
              "      <td>negative</td>\n",
              "    </tr>\n",
              "  </tbody>\n",
              "</table>\n",
              "<p>50000 rows × 2 columns</p>\n",
              "</div>\n",
              "      <button class=\"colab-df-convert\" onclick=\"convertToInteractive('df-ae7baaa4-e1e8-470f-99d6-2e739640daf5')\"\n",
              "              title=\"Convert this dataframe to an interactive table.\"\n",
              "              style=\"display:none;\">\n",
              "        \n",
              "  <svg xmlns=\"http://www.w3.org/2000/svg\" height=\"24px\"viewBox=\"0 0 24 24\"\n",
              "       width=\"24px\">\n",
              "    <path d=\"M0 0h24v24H0V0z\" fill=\"none\"/>\n",
              "    <path d=\"M18.56 5.44l.94 2.06.94-2.06 2.06-.94-2.06-.94-.94-2.06-.94 2.06-2.06.94zm-11 1L8.5 8.5l.94-2.06 2.06-.94-2.06-.94L8.5 2.5l-.94 2.06-2.06.94zm10 10l.94 2.06.94-2.06 2.06-.94-2.06-.94-.94-2.06-.94 2.06-2.06.94z\"/><path d=\"M17.41 7.96l-1.37-1.37c-.4-.4-.92-.59-1.43-.59-.52 0-1.04.2-1.43.59L10.3 9.45l-7.72 7.72c-.78.78-.78 2.05 0 2.83L4 21.41c.39.39.9.59 1.41.59.51 0 1.02-.2 1.41-.59l7.78-7.78 2.81-2.81c.8-.78.8-2.07 0-2.86zM5.41 20L4 18.59l7.72-7.72 1.47 1.35L5.41 20z\"/>\n",
              "  </svg>\n",
              "      </button>\n",
              "      \n",
              "  <style>\n",
              "    .colab-df-container {\n",
              "      display:flex;\n",
              "      flex-wrap:wrap;\n",
              "      gap: 12px;\n",
              "    }\n",
              "\n",
              "    .colab-df-convert {\n",
              "      background-color: #E8F0FE;\n",
              "      border: none;\n",
              "      border-radius: 50%;\n",
              "      cursor: pointer;\n",
              "      display: none;\n",
              "      fill: #1967D2;\n",
              "      height: 32px;\n",
              "      padding: 0 0 0 0;\n",
              "      width: 32px;\n",
              "    }\n",
              "\n",
              "    .colab-df-convert:hover {\n",
              "      background-color: #E2EBFA;\n",
              "      box-shadow: 0px 1px 2px rgba(60, 64, 67, 0.3), 0px 1px 3px 1px rgba(60, 64, 67, 0.15);\n",
              "      fill: #174EA6;\n",
              "    }\n",
              "\n",
              "    [theme=dark] .colab-df-convert {\n",
              "      background-color: #3B4455;\n",
              "      fill: #D2E3FC;\n",
              "    }\n",
              "\n",
              "    [theme=dark] .colab-df-convert:hover {\n",
              "      background-color: #434B5C;\n",
              "      box-shadow: 0px 1px 3px 1px rgba(0, 0, 0, 0.15);\n",
              "      filter: drop-shadow(0px 1px 2px rgba(0, 0, 0, 0.3));\n",
              "      fill: #FFFFFF;\n",
              "    }\n",
              "  </style>\n",
              "\n",
              "      <script>\n",
              "        const buttonEl =\n",
              "          document.querySelector('#df-ae7baaa4-e1e8-470f-99d6-2e739640daf5 button.colab-df-convert');\n",
              "        buttonEl.style.display =\n",
              "          google.colab.kernel.accessAllowed ? 'block' : 'none';\n",
              "\n",
              "        async function convertToInteractive(key) {\n",
              "          const element = document.querySelector('#df-ae7baaa4-e1e8-470f-99d6-2e739640daf5');\n",
              "          const dataTable =\n",
              "            await google.colab.kernel.invokeFunction('convertToInteractive',\n",
              "                                                     [key], {});\n",
              "          if (!dataTable) return;\n",
              "\n",
              "          const docLinkHtml = 'Like what you see? Visit the ' +\n",
              "            '<a target=\"_blank\" href=https://colab.research.google.com/notebooks/data_table.ipynb>data table notebook</a>'\n",
              "            + ' to learn more about interactive tables.';\n",
              "          element.innerHTML = '';\n",
              "          dataTable['output_type'] = 'display_data';\n",
              "          await google.colab.output.renderOutput(dataTable, element);\n",
              "          const docLink = document.createElement('div');\n",
              "          docLink.innerHTML = docLinkHtml;\n",
              "          element.appendChild(docLink);\n",
              "        }\n",
              "      </script>\n",
              "    </div>\n",
              "  </div>\n",
              "  "
            ]
          },
          "metadata": {},
          "execution_count": 3
        }
      ],
      "source": [
        "df = pd.read_csv(\"/content/drive/MyDrive/imdb.csv\")\n",
        "df"
      ]
    },
    {
      "cell_type": "markdown",
      "source": [
        "Here there are about 50000 rows and 2 columns\n",
        "\n",
        "Sentiment Column has labels as : positive and negative\n",
        "\n",
        "We have to encode the labels as :   positive as 1  and negative as 0\n"
      ],
      "metadata": {
        "id": "Oq3ZUKAYBLUt"
      }
    },
    {
      "cell_type": "code",
      "execution_count": 4,
      "metadata": {
        "id": "dRgL1Tq62emD",
        "colab": {
          "base_uri": "https://localhost:8080/",
          "height": 206
        },
        "outputId": "d8be3f15-3cc1-4ba2-d3b8-a69488cda664"
      },
      "outputs": [
        {
          "output_type": "execute_result",
          "data": {
            "text/plain": [
              "                                              review  sentiment\n",
              "0  One of the other reviewers has mentioned that ...          1\n",
              "1  A wonderful little production. <br /><br />The...          1\n",
              "2  I thought this was a wonderful way to spend ti...          1\n",
              "3  Basically there's a family where a little boy ...          0\n",
              "4  Petter Mattei's \"Love in the Time of Money\" is...          1"
            ],
            "text/html": [
              "\n",
              "  <div id=\"df-400183dd-45fd-40a2-b935-562e30e255c5\">\n",
              "    <div class=\"colab-df-container\">\n",
              "      <div>\n",
              "<style scoped>\n",
              "    .dataframe tbody tr th:only-of-type {\n",
              "        vertical-align: middle;\n",
              "    }\n",
              "\n",
              "    .dataframe tbody tr th {\n",
              "        vertical-align: top;\n",
              "    }\n",
              "\n",
              "    .dataframe thead th {\n",
              "        text-align: right;\n",
              "    }\n",
              "</style>\n",
              "<table border=\"1\" class=\"dataframe\">\n",
              "  <thead>\n",
              "    <tr style=\"text-align: right;\">\n",
              "      <th></th>\n",
              "      <th>review</th>\n",
              "      <th>sentiment</th>\n",
              "    </tr>\n",
              "  </thead>\n",
              "  <tbody>\n",
              "    <tr>\n",
              "      <th>0</th>\n",
              "      <td>One of the other reviewers has mentioned that ...</td>\n",
              "      <td>1</td>\n",
              "    </tr>\n",
              "    <tr>\n",
              "      <th>1</th>\n",
              "      <td>A wonderful little production. &lt;br /&gt;&lt;br /&gt;The...</td>\n",
              "      <td>1</td>\n",
              "    </tr>\n",
              "    <tr>\n",
              "      <th>2</th>\n",
              "      <td>I thought this was a wonderful way to spend ti...</td>\n",
              "      <td>1</td>\n",
              "    </tr>\n",
              "    <tr>\n",
              "      <th>3</th>\n",
              "      <td>Basically there's a family where a little boy ...</td>\n",
              "      <td>0</td>\n",
              "    </tr>\n",
              "    <tr>\n",
              "      <th>4</th>\n",
              "      <td>Petter Mattei's \"Love in the Time of Money\" is...</td>\n",
              "      <td>1</td>\n",
              "    </tr>\n",
              "  </tbody>\n",
              "</table>\n",
              "</div>\n",
              "      <button class=\"colab-df-convert\" onclick=\"convertToInteractive('df-400183dd-45fd-40a2-b935-562e30e255c5')\"\n",
              "              title=\"Convert this dataframe to an interactive table.\"\n",
              "              style=\"display:none;\">\n",
              "        \n",
              "  <svg xmlns=\"http://www.w3.org/2000/svg\" height=\"24px\"viewBox=\"0 0 24 24\"\n",
              "       width=\"24px\">\n",
              "    <path d=\"M0 0h24v24H0V0z\" fill=\"none\"/>\n",
              "    <path d=\"M18.56 5.44l.94 2.06.94-2.06 2.06-.94-2.06-.94-.94-2.06-.94 2.06-2.06.94zm-11 1L8.5 8.5l.94-2.06 2.06-.94-2.06-.94L8.5 2.5l-.94 2.06-2.06.94zm10 10l.94 2.06.94-2.06 2.06-.94-2.06-.94-.94-2.06-.94 2.06-2.06.94z\"/><path d=\"M17.41 7.96l-1.37-1.37c-.4-.4-.92-.59-1.43-.59-.52 0-1.04.2-1.43.59L10.3 9.45l-7.72 7.72c-.78.78-.78 2.05 0 2.83L4 21.41c.39.39.9.59 1.41.59.51 0 1.02-.2 1.41-.59l7.78-7.78 2.81-2.81c.8-.78.8-2.07 0-2.86zM5.41 20L4 18.59l7.72-7.72 1.47 1.35L5.41 20z\"/>\n",
              "  </svg>\n",
              "      </button>\n",
              "      \n",
              "  <style>\n",
              "    .colab-df-container {\n",
              "      display:flex;\n",
              "      flex-wrap:wrap;\n",
              "      gap: 12px;\n",
              "    }\n",
              "\n",
              "    .colab-df-convert {\n",
              "      background-color: #E8F0FE;\n",
              "      border: none;\n",
              "      border-radius: 50%;\n",
              "      cursor: pointer;\n",
              "      display: none;\n",
              "      fill: #1967D2;\n",
              "      height: 32px;\n",
              "      padding: 0 0 0 0;\n",
              "      width: 32px;\n",
              "    }\n",
              "\n",
              "    .colab-df-convert:hover {\n",
              "      background-color: #E2EBFA;\n",
              "      box-shadow: 0px 1px 2px rgba(60, 64, 67, 0.3), 0px 1px 3px 1px rgba(60, 64, 67, 0.15);\n",
              "      fill: #174EA6;\n",
              "    }\n",
              "\n",
              "    [theme=dark] .colab-df-convert {\n",
              "      background-color: #3B4455;\n",
              "      fill: #D2E3FC;\n",
              "    }\n",
              "\n",
              "    [theme=dark] .colab-df-convert:hover {\n",
              "      background-color: #434B5C;\n",
              "      box-shadow: 0px 1px 3px 1px rgba(0, 0, 0, 0.15);\n",
              "      filter: drop-shadow(0px 1px 2px rgba(0, 0, 0, 0.3));\n",
              "      fill: #FFFFFF;\n",
              "    }\n",
              "  </style>\n",
              "\n",
              "      <script>\n",
              "        const buttonEl =\n",
              "          document.querySelector('#df-400183dd-45fd-40a2-b935-562e30e255c5 button.colab-df-convert');\n",
              "        buttonEl.style.display =\n",
              "          google.colab.kernel.accessAllowed ? 'block' : 'none';\n",
              "\n",
              "        async function convertToInteractive(key) {\n",
              "          const element = document.querySelector('#df-400183dd-45fd-40a2-b935-562e30e255c5');\n",
              "          const dataTable =\n",
              "            await google.colab.kernel.invokeFunction('convertToInteractive',\n",
              "                                                     [key], {});\n",
              "          if (!dataTable) return;\n",
              "\n",
              "          const docLinkHtml = 'Like what you see? Visit the ' +\n",
              "            '<a target=\"_blank\" href=https://colab.research.google.com/notebooks/data_table.ipynb>data table notebook</a>'\n",
              "            + ' to learn more about interactive tables.';\n",
              "          element.innerHTML = '';\n",
              "          dataTable['output_type'] = 'display_data';\n",
              "          await google.colab.output.renderOutput(dataTable, element);\n",
              "          const docLink = document.createElement('div');\n",
              "          docLink.innerHTML = docLinkHtml;\n",
              "          element.appendChild(docLink);\n",
              "        }\n",
              "      </script>\n",
              "    </div>\n",
              "  </div>\n",
              "  "
            ]
          },
          "metadata": {},
          "execution_count": 4
        }
      ],
      "source": [
        "mapping = dict(positive=1,\n",
        "               negative=0)\n",
        "\n",
        "# creating a mapping to encode the labels\n",
        "df['sentiment'] = df['sentiment'].map(mapping)\n",
        "\n",
        "df.head()"
      ]
    },
    {
      "cell_type": "code",
      "execution_count": 5,
      "metadata": {
        "colab": {
          "base_uri": "https://localhost:8080/"
        },
        "id": "Ab-UvL0d2epF",
        "outputId": "f04230cf-e5d1-4be9-be64-2ec876e9b26e"
      },
      "outputs": [
        {
          "output_type": "execute_result",
          "data": {
            "text/plain": [
              "1    25000\n",
              "0    25000\n",
              "Name: sentiment, dtype: int64"
            ]
          },
          "metadata": {},
          "execution_count": 5
        }
      ],
      "source": [
        "# Finding the value counts for each label\n",
        "df.sentiment.value_counts()"
      ]
    },
    {
      "cell_type": "code",
      "execution_count": 6,
      "metadata": {
        "colab": {
          "base_uri": "https://localhost:8080/"
        },
        "id": "b0-tJh4fgWFJ",
        "outputId": "5473030e-d82f-440a-f033-49af2ad20c39"
      },
      "outputs": [
        {
          "output_type": "execute_result",
          "data": {
            "text/plain": [
              "review       0\n",
              "sentiment    0\n",
              "dtype: int64"
            ]
          },
          "metadata": {},
          "execution_count": 6
        }
      ],
      "source": [
        "# checking out if there is any null values in the dataset\n",
        "df.isna().sum()\n",
        "\n",
        "# no null values seems to be found"
      ]
    },
    {
      "cell_type": "code",
      "execution_count": 7,
      "metadata": {
        "id": "2SgPEXIL4-lo"
      },
      "outputs": [],
      "source": [
        "# text = df['review'].tolist()\n",
        "# # text"
      ]
    },
    {
      "cell_type": "code",
      "execution_count": 8,
      "metadata": {
        "colab": {
          "base_uri": "https://localhost:8080/"
        },
        "id": "7DHI3GDT4-ra",
        "outputId": "31d04c15-1a6c-45b9-eb5e-11bca5c278c7"
      },
      "outputs": [
        {
          "output_type": "execute_result",
          "data": {
            "text/plain": [
              "numpy.ndarray"
            ]
          },
          "metadata": {},
          "execution_count": 8
        }
      ],
      "source": [
        "# converting the sentiment column of the dataframe to numpy array\n",
        "label = df['sentiment']\n",
        "label = label.to_numpy()\n",
        "type(label)"
      ]
    },
    {
      "cell_type": "code",
      "execution_count": 9,
      "metadata": {
        "colab": {
          "base_uri": "https://localhost:8080/"
        },
        "id": "6ao909MT_pHW",
        "outputId": "29bfebcf-f7e4-416a-a861-fc707ff03b30"
      },
      "outputs": [
        {
          "output_type": "stream",
          "name": "stderr",
          "text": [
            "[nltk_data] Downloading package stopwords to /root/nltk_data...\n",
            "[nltk_data]   Unzipping corpora/stopwords.zip.\n",
            "[nltk_data] Downloading package omw-1.4 to /root/nltk_data...\n",
            "[nltk_data] Downloading package wordnet to /root/nltk_data...\n"
          ]
        },
        {
          "output_type": "execute_result",
          "data": {
            "text/plain": [
              "True"
            ]
          },
          "metadata": {},
          "execution_count": 9
        }
      ],
      "source": [
        "# downloading nltk dependencies\n",
        "nltk.download('stopwords')\n",
        "nltk.download('omw-1.4')\n",
        "nltk.download('wordnet')"
      ]
    },
    {
      "cell_type": "code",
      "execution_count": 10,
      "metadata": {
        "id": "YlZD2Yi5_SOe"
      },
      "outputs": [],
      "source": [
        "all_stopwords = stopwords.words('english')\n",
        "negation = ['no','not']\n",
        "all_stopwords = [w for w in all_stopwords if w not in negation]\n",
        "\n",
        "def preprocessing(data):\n",
        "    corpus = []\n",
        "    for i in range(len(data)):\n",
        "        # remove urls\n",
        "        tweet = re.sub(r'http\\S+', ' ', data[i]) # links\n",
        "\n",
        "        # remove html tags\n",
        "        tweet = re.sub(r'<.*?>', ' ', tweet) # tags        \n",
        "        tweet = re.sub('&\\w+([-.]\\w+)*', ' ', tweet) # colorcodes\n",
        "\n",
        "        # remove digits\n",
        "        tweet = re.sub(r'\\d+', ' ', tweet)\n",
        "        tweet = re.sub('@\\w+([-.]\\w+)*', ' ', tweet) # mentions\n",
        "\n",
        "        # remove emojis\n",
        "        emoji_pattern = re.compile(\"[\"\n",
        "        u\"\\U0001F600-\\U0001F64F\"  # emoticons\n",
        "        u\"\\U0001F300-\\U0001F5FF\"  # symbols & pictographs\n",
        "        u\"\\U0001F680-\\U0001F6FF\"  # transport & map symbols\n",
        "        u\"\\U0001F1E0-\\U0001F1FF\"  # flags (iOS)\n",
        "                           \"]+\", flags=re.UNICODE)\n",
        "        tweet = emoji_pattern.sub(r'', tweet) # no emoji\n",
        "\n",
        "        # remove hashtags\n",
        "        tweet = re.sub(r'#\\w+', ' ', tweet) # hashtags\n",
        "        review = re.sub('[^a-zA-Z]', ' ', tweet) # any characters other than alphabets\n",
        "        review = review.lower() # casefolding\n",
        "        review = review.split() \n",
        "        lemma= WordNetLemmatizer() # lemmatization\n",
        "        review = [lemma.lemmatize(word) for word in review if word not in all_stopwords]\n",
        "        review = ' '.join(review)\n",
        "        corpus.append(review)\n",
        "    return corpus"
      ]
    },
    {
      "cell_type": "code",
      "source": [],
      "metadata": {
        "id": "gF_IfZDjEIjK"
      },
      "execution_count": 10,
      "outputs": []
    },
    {
      "cell_type": "code",
      "execution_count": 11,
      "metadata": {
        "id": "47RBF0VRAnYn",
        "scrolled": true
      },
      "outputs": [],
      "source": [
        "review = preprocessing(df['review'])"
      ]
    },
    {
      "cell_type": "markdown",
      "metadata": {
        "id": "0-wLqszigWFN"
      },
      "source": [
        "# embedding"
      ]
    },
    {
      "cell_type": "code",
      "source": [
        "X_train, X_test,y_train,y_test = train_test_split(review,label,test_size=0.20,stratify = label,random_state=42)"
      ],
      "metadata": {
        "id": "vdwQRoT1dcl9"
      },
      "execution_count": 12,
      "outputs": []
    },
    {
      "cell_type": "code",
      "source": [
        "token = Tokenizer(lower=True)\n",
        "token.fit_on_texts(X_train)"
      ],
      "metadata": {
        "id": "roIY0gO1dffG"
      },
      "execution_count": 13,
      "outputs": []
    },
    {
      "cell_type": "code",
      "execution_count": 14,
      "metadata": {
        "id": "MFnJybGB4-wk"
      },
      "outputs": [],
      "source": [
        "# Convert text data to sequences of integers\n",
        "train_sequences = token.texts_to_sequences(X_train)\n",
        "valid_sequences = token.texts_to_sequences(X_test)"
      ]
    },
    {
      "cell_type": "code",
      "execution_count": 15,
      "metadata": {
        "id": "2h3chKGq4-zJ",
        "colab": {
          "base_uri": "https://localhost:8080/"
        },
        "outputId": "92b400d9-6241-4cd5-de84-6fc14a492e6c"
      },
      "outputs": [
        {
          "output_type": "execute_result",
          "data": {
            "text/plain": [
              "81371"
            ]
          },
          "metadata": {},
          "execution_count": 15
        }
      ],
      "source": [
        "vocab_size = len(token.word_index)+1\n",
        "vocab_size\n",
        "\n",
        "# there are 89657 unique words in the corpus \n",
        "# we will feed this to the input_dim of embedding layer\n",
        "# +1 because the index starts from 0"
      ]
    },
    {
      "cell_type": "code",
      "source": [],
      "metadata": {
        "id": "OhdIQa2vWYUj"
      },
      "execution_count": 15,
      "outputs": []
    },
    {
      "cell_type": "code",
      "execution_count": 16,
      "metadata": {
        "id": "zzJGuZ0gaWKK"
      },
      "outputs": [],
      "source": [
        "maxlen = 100\n",
        "\n",
        "train_data = pad_sequences(train_sequences, maxlen=maxlen,padding = 'post')\n",
        "valid_data = pad_sequences(valid_sequences, maxlen=maxlen,padding = 'post')\n"
      ]
    },
    {
      "cell_type": "code",
      "execution_count": 17,
      "metadata": {
        "id": "h9AujNIrgWFR",
        "colab": {
          "base_uri": "https://localhost:8080/"
        },
        "outputId": "1fbe19c8-68c9-4530-9d43-89e220d353cf"
      },
      "outputs": [
        {
          "output_type": "execute_result",
          "data": {
            "text/plain": [
              "(40000, 100)"
            ]
          },
          "metadata": {},
          "execution_count": 17
        }
      ],
      "source": [
        "train_data.shape"
      ]
    },
    {
      "cell_type": "code",
      "execution_count": 18,
      "metadata": {
        "id": "ZceRW-vBaWQC"
      },
      "outputs": [],
      "source": [
        "# X is a Sequence of Token Indexes not the actual  vector that  represents the sentences\n",
        "# The word Vector will always will be in the range of -1 and +1 and that will be projected inside ML model automatically to train the model\n",
        "\n",
        "# our next task is to convert the sequence of token indices to vector representation "
      ]
    },
    {
      "cell_type": "code",
      "execution_count": 18,
      "metadata": {
        "id": "VEPHDPtLaWSr"
      },
      "outputs": [],
      "source": []
    },
    {
      "cell_type": "code",
      "source": [],
      "metadata": {
        "id": "36d5mkv-KIoq"
      },
      "execution_count": 18,
      "outputs": []
    },
    {
      "cell_type": "markdown",
      "metadata": {
        "id": "Ohn6o42ed_Lz"
      },
      "source": [
        "# Building Convolutional Neural Network Model"
      ]
    },
    {
      "cell_type": "code",
      "execution_count": 19,
      "metadata": {
        "id": "KAwlPasjea_n",
        "colab": {
          "base_uri": "https://localhost:8080/"
        },
        "outputId": "88aa9624-1947-48f2-c4bf-09a2a59e57bb"
      },
      "outputs": [
        {
          "output_type": "stream",
          "name": "stdout",
          "text": [
            "Model: \"sequential\"\n",
            "_________________________________________________________________\n",
            " Layer (type)                Output Shape              Param #   \n",
            "=================================================================\n",
            " embedding (Embedding)       (None, 100, 200)          16274200  \n",
            "                                                                 \n",
            " conv1d (Conv1D)             (None, 93, 64)            102464    \n",
            "                                                                 \n",
            " max_pooling1d (MaxPooling1D  (None, 46, 64)           0         \n",
            " )                                                               \n",
            "                                                                 \n",
            " dropout (Dropout)           (None, 46, 64)            0         \n",
            "                                                                 \n",
            " dense (Dense)               (None, 46, 32)            2080      \n",
            "                                                                 \n",
            " dropout_1 (Dropout)         (None, 46, 32)            0         \n",
            "                                                                 \n",
            " dense_1 (Dense)             (None, 46, 16)            528       \n",
            "                                                                 \n",
            " global_max_pooling1d (Globa  (None, 16)               0         \n",
            " lMaxPooling1D)                                                  \n",
            "                                                                 \n",
            " dense_2 (Dense)             (None, 1)                 17        \n",
            "                                                                 \n",
            "=================================================================\n",
            "Total params: 16,379,289\n",
            "Trainable params: 105,089\n",
            "Non-trainable params: 16,274,200\n",
            "_________________________________________________________________\n"
          ]
        }
      ],
      "source": [
        "vec_size = 200\n",
        "\n",
        "\n",
        "model = Sequential()\n",
        "model.add(Embedding(input_dim = vocab_size, output_dim = vec_size,input_length=maxlen,trainable=False))\n",
        "\n",
        "model.add(Conv1D(64,8,activation = 'relu'))\n",
        "model.add(MaxPooling1D(2))\n",
        "model.add(Dropout(0.5))\n",
        "\n",
        "model.add(Dense(32,activation = 'relu'))\n",
        "model.add(Dropout(0.5))\n",
        "\n",
        "model.add(Dense(16,activation = 'relu'))\n",
        "\n",
        "model.add(GlobalMaxPooling1D())\n",
        "\n",
        "model.add(Dense(1,activation='sigmoid'))\n",
        "\n",
        "model.summary()\n"
      ]
    },
    {
      "cell_type": "code",
      "execution_count": 20,
      "metadata": {
        "id": "AVC_NRhaea9C"
      },
      "outputs": [],
      "source": [
        "model.compile(optimizer = 'adam',loss = 'binary_crossentropy' ,metrics = ['accuracy'])"
      ]
    },
    {
      "cell_type": "code",
      "execution_count": 21,
      "metadata": {
        "id": "-PndsbUSea6A",
        "colab": {
          "base_uri": "https://localhost:8080/"
        },
        "outputId": "75aba0f7-950a-4761-c092-9395444420f4"
      },
      "outputs": [
        {
          "output_type": "stream",
          "name": "stdout",
          "text": [
            "Epoch 1/5\n",
            "1250/1250 [==============================] - 18s 5ms/step - loss: 0.6389 - accuracy: 0.6191 - val_loss: 0.6244 - val_accuracy: 0.6231\n",
            "Epoch 2/5\n",
            "1250/1250 [==============================] - 5s 4ms/step - loss: 0.5536 - accuracy: 0.7153 - val_loss: 0.5937 - val_accuracy: 0.6535\n",
            "Epoch 3/5\n",
            "1250/1250 [==============================] - 8s 6ms/step - loss: 0.5058 - accuracy: 0.7487 - val_loss: 0.5760 - val_accuracy: 0.6703\n",
            "Epoch 4/5\n",
            "1250/1250 [==============================] - 5s 4ms/step - loss: 0.4655 - accuracy: 0.7782 - val_loss: 0.5929 - val_accuracy: 0.6311\n",
            "Epoch 5/5\n",
            "1250/1250 [==============================] - 8s 6ms/step - loss: 0.4331 - accuracy: 0.7991 - val_loss: 0.5599 - val_accuracy: 0.6872\n"
          ]
        }
      ],
      "source": [
        "history = model.fit(train_data,y_train,epochs=5,validation_data=(valid_data,y_test))"
      ]
    },
    {
      "cell_type": "code",
      "execution_count": null,
      "metadata": {
        "id": "ETH-cqfueavn"
      },
      "outputs": [],
      "source": [
        "import pickle\n",
        "with open (\"cnn_sentiment_analysis.pkl\",'wb') as f:\n",
        "    pickle.dump(model,f)"
      ]
    },
    {
      "cell_type": "code",
      "execution_count": 23,
      "metadata": {
        "id": "FJ_mExGrkBvf",
        "colab": {
          "base_uri": "https://localhost:8080/"
        },
        "outputId": "2af32856-b836-400b-cec9-35375713a620"
      },
      "outputs": [
        {
          "output_type": "stream",
          "name": "stdout",
          "text": [
            "313/313 [==============================] - 1s 3ms/step - loss: 0.5599 - accuracy: 0.6872\n"
          ]
        }
      ],
      "source": [
        "score = model.evaluate(valid_data,y_test)"
      ]
    },
    {
      "cell_type": "code",
      "execution_count": 24,
      "metadata": {
        "id": "PaDElVE6kOHg",
        "colab": {
          "base_uri": "https://localhost:8080/"
        },
        "outputId": "2b0e7729-df1e-49f9-8414-b323c0292d01"
      },
      "outputs": [
        {
          "output_type": "stream",
          "name": "stdout",
          "text": [
            "Test score : 0.559927225112915\n",
            "Test Accuracy : 0.6872000098228455\n"
          ]
        }
      ],
      "source": [
        "print(\"Test score :\",score[0])\n",
        "print(\"Test Accuracy :\",score[1])"
      ]
    },
    {
      "cell_type": "code",
      "execution_count": 25,
      "metadata": {
        "id": "VMualk0Deapy",
        "colab": {
          "base_uri": "https://localhost:8080/",
          "height": 573
        },
        "outputId": "74a40061-ca5a-49dc-bc03-ae8dcaece2d6"
      },
      "outputs": [
        {
          "output_type": "display_data",
          "data": {
            "text/plain": [
              "<Figure size 432x288 with 1 Axes>"
            ],
            "image/png": "[encoded data removed]"
          },
          "metadata": {
            "needs_background": "light"
          }
        },
        {
          "output_type": "display_data",
          "data": {
            "text/plain": [
              "<Figure size 432x288 with 1 Axes>"
            ],
            "image/png": "[encoded data removed]"
          },
          "metadata": {
            "needs_background": "light"
          }
        }
      ],
      "source": [
        "import matplotlib.pyplot as plt\n",
        "\n",
        "plt.plot(history.history['accuracy'])\n",
        "plt.plot(history.history['val_accuracy'])\n",
        "plt.title(\"Simple Neural Network Accuracy \")\n",
        "plt.xlabel(\"Accuracy\")\n",
        "plt.ylabel(\"Epochs\")\n",
        "plt.legend(['Train','Test'],loc='best')\n",
        "plt.show()\n",
        "\n",
        "\n",
        "plt.plot(history.history['loss'])\n",
        "plt.plot(history.history['val_loss'])\n",
        "plt.title(\"Simple Neural Network Loss \")\n",
        "plt.xlabel(\"Loss\")\n",
        "plt.ylabel(\"Epochs\")\n",
        "plt.legend(['Train','Test'],loc='best')\n",
        "plt.show()\n",
        "\n"
      ]
    },
    {
      "cell_type": "markdown",
      "metadata": {
        "id": "ck-j4f1XlroI"
      },
      "source": [
        "#  Building  LSTM  Model"
      ]
    },
    {
      "cell_type": "code",
      "execution_count": 26,
      "metadata": {
        "id": "zzLR7AhtaWaj"
      },
      "outputs": [],
      "source": [
        "from keras.layers import LSTM"
      ]
    },
    {
      "cell_type": "code",
      "execution_count": 27,
      "metadata": {
        "id": "g2hSfJdjaWdN"
      },
      "outputs": [],
      "source": [
        "vec_size = 200\n",
        "lstm =Sequential()\n",
        "# Embedding layer\n",
        "lstm.add(Embedding(input_dim = vocab_size, output_dim = vec_size,input_length=maxlen,trainable = False))\n",
        "#lstm\n",
        "lstm.add(LSTM(100,dropout=0.20))\n",
        "lstm.add(Dense(1,activation='sigmoid'))"
      ]
    },
    {
      "cell_type": "code",
      "execution_count": 28,
      "metadata": {
        "id": "4XDd_mr5aWjH",
        "colab": {
          "base_uri": "https://localhost:8080/"
        },
        "outputId": "538af2e4-78fd-4929-f455-929a5fddcb89"
      },
      "outputs": [
        {
          "output_type": "stream",
          "name": "stdout",
          "text": [
            "Model: \"sequential_1\"\n",
            "_________________________________________________________________\n",
            " Layer (type)                Output Shape              Param #   \n",
            "=================================================================\n",
            " embedding_1 (Embedding)     (None, 100, 200)          16274200  \n",
            "                                                                 \n",
            " lstm (LSTM)                 (None, 100)               120400    \n",
            "                                                                 \n",
            " dense_3 (Dense)             (None, 1)                 101       \n",
            "                                                                 \n",
            "=================================================================\n",
            "Total params: 16,394,701\n",
            "Trainable params: 120,501\n",
            "Non-trainable params: 16,274,200\n",
            "_________________________________________________________________\n",
            "None\n"
          ]
        }
      ],
      "source": [
        "lstm.compile(optimizer='adam',loss='binary_crossentropy',metrics=['accuracy'])\n",
        "print(lstm.summary())"
      ]
    },
    {
      "cell_type": "code",
      "execution_count": 29,
      "metadata": {
        "id": "Iw8jm1gimhTz",
        "colab": {
          "base_uri": "https://localhost:8080/"
        },
        "outputId": "fc3dc6d2-80cb-4a2e-811f-0e366bcadfe5"
      },
      "outputs": [
        {
          "output_type": "stream",
          "name": "stdout",
          "text": [
            "Epoch 1/15\n",
            "1250/1250 [==============================] - 12s 8ms/step - loss: 0.6917 - accuracy: 0.5177 - val_loss: 0.6896 - val_accuracy: 0.5067\n",
            "Epoch 2/15\n",
            "1250/1250 [==============================] - 9s 7ms/step - loss: 0.6897 - accuracy: 0.5331 - val_loss: 0.6863 - val_accuracy: 0.5613\n",
            "Epoch 3/15\n",
            "1250/1250 [==============================] - 9s 7ms/step - loss: 0.6735 - accuracy: 0.5681 - val_loss: 0.7137 - val_accuracy: 0.5731\n",
            "Epoch 4/15\n",
            "1250/1250 [==============================] - 9s 7ms/step - loss: 0.6768 - accuracy: 0.5635 - val_loss: 0.6825 - val_accuracy: 0.5434\n",
            "Epoch 5/15\n",
            "1250/1250 [==============================] - 8s 7ms/step - loss: 0.6802 - accuracy: 0.5590 - val_loss: 0.6900 - val_accuracy: 0.5144\n",
            "Epoch 6/15\n",
            "1250/1250 [==============================] - 9s 7ms/step - loss: 0.6821 - accuracy: 0.5560 - val_loss: 0.6847 - val_accuracy: 0.5516\n",
            "Epoch 7/15\n",
            "1250/1250 [==============================] - 9s 7ms/step - loss: 0.6854 - accuracy: 0.5470 - val_loss: 0.6821 - val_accuracy: 0.5479\n",
            "Epoch 8/15\n",
            "1250/1250 [==============================] - 8s 7ms/step - loss: 0.6738 - accuracy: 0.5709 - val_loss: 0.6729 - val_accuracy: 0.5878\n",
            "Epoch 9/15\n",
            "1250/1250 [==============================] - 9s 7ms/step - loss: 0.6710 - accuracy: 0.5748 - val_loss: 0.6935 - val_accuracy: 0.5028\n",
            "Epoch 10/15\n",
            "1250/1250 [==============================] - 9s 8ms/step - loss: 0.6829 - accuracy: 0.5417 - val_loss: 0.6786 - val_accuracy: 0.5284\n",
            "Epoch 11/15\n",
            "1250/1250 [==============================] - 8s 7ms/step - loss: 0.6319 - accuracy: 0.6278 - val_loss: 0.6976 - val_accuracy: 0.5159\n",
            "Epoch 12/15\n",
            "1250/1250 [==============================] - 9s 7ms/step - loss: 0.6232 - accuracy: 0.6447 - val_loss: 0.5502 - val_accuracy: 0.7201\n",
            "Epoch 13/15\n",
            "1250/1250 [==============================] - 9s 7ms/step - loss: 0.5579 - accuracy: 0.7111 - val_loss: 0.5471 - val_accuracy: 0.7198\n",
            "Epoch 14/15\n",
            "1250/1250 [==============================] - 8s 7ms/step - loss: 0.5431 - accuracy: 0.7204 - val_loss: 0.5495 - val_accuracy: 0.7252\n",
            "Epoch 15/15\n",
            "1250/1250 [==============================] - 9s 7ms/step - loss: 0.5307 - accuracy: 0.7301 - val_loss: 0.5242 - val_accuracy: 0.7336\n"
          ]
        }
      ],
      "source": [
        "lstm_history = lstm.fit(train_data,y_train,epochs=15,validation_data=(valid_data,y_test))"
      ]
    },
    {
      "cell_type": "code",
      "execution_count": 30,
      "metadata": {
        "id": "Sg4SuQktmhbv",
        "colab": {
          "base_uri": "https://localhost:8080/",
          "height": 573
        },
        "outputId": "1b2e0e41-2589-4c66-d362-7da0cec72a02"
      },
      "outputs": [
        {
          "output_type": "display_data",
          "data": {
            "text/plain": [
              "<Figure size 432x288 with 1 Axes>"
            ],
            "image/png": "[encoded data removed]"
          },
          "metadata": {
            "needs_background": "light"
          }
        },
        {
          "output_type": "display_data",
          "data": {
            "text/plain": [
              "<Figure size 432x288 with 1 Axes>"
            ],
            "image/png": "[encoded data removed]"
          },
          "metadata": {
            "needs_background": "light"
          }
        }
      ],
      "source": [
        "import matplotlib.pyplot as plt\n",
        "plt.plot(lstm_history.history['accuracy'])\n",
        "plt.plot(lstm_history.history['val_accuracy'])\n",
        "plt.title(\"LSTM Accuracy \")\n",
        "plt.xlabel(\"Accuracy\")\n",
        "plt.ylabel(\"Epochs\")\n",
        "plt.legend(['Train','Test'],loc='best')\n",
        "plt.show()\n",
        "\n",
        "\n",
        "plt.plot(lstm_history.history['loss'])\n",
        "plt.plot(lstm_history.history['val_loss'])\n",
        "plt.title(\"LSTM Loss \")\n",
        "plt.xlabel(\"Loss\")\n",
        "plt.ylabel(\"Epochs\")\n",
        "plt.legend(['Train','Test'],loc='best')\n",
        "plt.show()\n",
        "\n"
      ]
    },
    {
      "cell_type": "code",
      "execution_count": null,
      "metadata": {
        "id": "BUT2M7l7mheI"
      },
      "outputs": [],
      "source": [
        "import pickle\n",
        "with open (\"lstm_sentiment_analysis.pkl\",'wb') as f:\n",
        "    pickle.dump(lstm,f)"
      ]
    }
  ],
  "metadata": {
    "accelerator": "GPU",
    "colab": {
      "provenance": []
    },
    "gpuClass": "standard",
    "kernelspec": {
      "display_name": "Python 3 (ipykernel)",
      "language": "python",
      "name": "python3"
    },
    "language_info": {
      "codemirror_mode": {
        "name": "ipython",
        "version": 3
      },
      "file_extension": ".py",
      "mimetype": "text/x-python",
      "name": "python",
      "nbconvert_exporter": "python",
      "pygments_lexer": "ipython3",
      "version": "3.9.12"
    }
  },
  "nbformat": 4,
  "nbformat_minor": 0
}